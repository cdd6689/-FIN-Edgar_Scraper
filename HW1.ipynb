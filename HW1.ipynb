{
 "cells": [
  {
   "cell_type": "code",
   "execution_count": 13,
   "metadata": {},
   "outputs": [],
   "source": [
    "import requests\n",
    "from lxml import html\n",
    "from bs4 import BeautifulSoup\n",
    "import re\n",
    "from datetime import date\n"
   ]
  },
  {
   "cell_type": "code",
   "execution_count": 14,
   "metadata": {},
   "outputs": [],
   "source": [
    "baselink = 'https://www.sec.gov/cgi-bin/browse-edgar?action=getcompany&\\\n",
    "CIK={}&type=&dateb=&owner=exclude&count=200'\n",
    "DateBefore = ''\n",
    "file_type =''\n",
    "company_ticker = ''\n",
    "\n",
    "def fill_link(ticker,filetype,date):\n",
    "    return None\n"
   ]
  },
  {
   "cell_type": "code",
   "execution_count": 19,
   "metadata": {},
   "outputs": [],
   "source": [
    "def get_ticker():\n",
    "    comp = False\n",
    "    while comp == False:\n",
    "        comp = input('Please enter the ticker for the company you want to search(required):')\n",
    "        if comp == '':\n",
    "            comp = False\n",
    "        else:\n",
    "            #get the search page \n",
    "            baselink = 'https://www.sec.gov/cgi-bin/browse-edgar?action=getcompany&\\\n",
    "CIK={}&type=&dateb=&owner=exclude&count=200'\n",
    "            comp = comp.lower()\n",
    "            url = baselink.format(comp)\n",
    "            page = requests.get(url)\n",
    "            soup = BeautifulSoup(page.content, 'html.parser')\n",
    "\n",
    "            #see if no match is found \n",
    "            no_match = soup.find_all('h1')\n",
    "\n",
    "            #if not found \n",
    "            if len(list(no_match))!=0:\n",
    "                print(no_match[0].text)\n",
    "                print('Please try again')\n",
    "                comp = False\n",
    "            #when there is a match, check if right match\n",
    "            else:\n",
    "                comp_name = list(soup.find_all('span', class_ = 'companyName'))[0].\\\n",
    "                text.replace('(see all company filings)','')\n",
    "\n",
    "                right_company = False\n",
    "                #ask the user if they is what they are looking for\n",
    "                right_company = False\n",
    "                while right_company == False:\n",
    "                    print('')\n",
    "                    print('')\n",
    "                    print('Is this the company you are looking for? (Press Y for yes N for no)')\n",
    "                    right_company = input(comp_name)\n",
    "                    if right_company.upper() != 'Y' and right_company.upper() !='N':\n",
    "                        right_company = False\n",
    "                    elif right_company.upper == 'N':\n",
    "                        comp = False\n",
    "                    else: \n",
    "                        return comp\n"
   ]
  },
  {
   "cell_type": "code",
   "execution_count": 20,
   "metadata": {},
   "outputs": [
    {
     "name": "stdout",
     "output_type": "stream",
     "text": [
      "Please enter the ticker for the company you want to search(required):wogigvw\n",
      "No matching Ticker Symbol.\n",
      "Please try again\n",
      "Please enter the ticker for the company you want to search(required):19749trgf\n",
      "No matching Ticker Symbol.\n",
      "Please try again\n",
      "Please enter the ticker for the company you want to search(required):ibm\n",
      "\n",
      "\n",
      "Is this the company you are looking for? (Press Y for yes N for no)\n",
      "INTERNATIONAL BUSINESS MACHINES CORP CIK#: 0000051143 wrvv\n",
      "\n",
      "\n",
      "Is this the company you are looking for? (Press Y for yes N for no)\n",
      "INTERNATIONAL BUSINESS MACHINES CORP CIK#: 0000051143 fff\n",
      "\n",
      "\n",
      "Is this the company you are looking for? (Press Y for yes N for no)\n",
      "INTERNATIONAL BUSINESS MACHINES CORP CIK#: 0000051143 n\n"
     ]
    }
   ],
   "source": [
    "comp_name = get_ticker()"
   ]
  },
  {
   "cell_type": "code",
   "execution_count": null,
   "metadata": {},
   "outputs": [],
   "source": [
    "#asking for the end year start year\n",
    "right_year = False\n",
    "while right_year == False:\n",
    "    start_year = input('optional - Search Start year (Press enter to pass):')\n",
    "    end_year = input('optional - Search end year (Press enter to pass):')\n",
    "\n",
    "\n"
   ]
  },
  {
   "cell_type": "code",
   "execution_count": 10,
   "metadata": {},
   "outputs": [
    {
     "data": {
      "text/plain": [
       "222"
      ]
     },
     "execution_count": 10,
     "metadata": {},
     "output_type": "execute_result"
    }
   ],
   "source": [
    "def date_validation(start, end):\n",
    "    current_year = date.today().year\n",
    "    if start == '' and end end == '':\n",
    "        return right_year = True\n",
    "    try:\n",
    "        start = int(start)\n",
    "        end = int(end)\n",
    "    #when the user enter the wrong content\n",
    "    except:\n",
    "        right_year  = False\n",
    "    \n",
    "    if start> current_year or start < 1990 or end <1990:\n",
    "        right_year = False\n",
    "        \n",
    "        \n",
    "\n",
    "    "
   ]
  },
  {
   "cell_type": "code",
   "execution_count": 54,
   "metadata": {},
   "outputs": [
    {
     "data": {
      "text/plain": [
       "1"
      ]
     },
     "execution_count": 54,
     "metadata": {},
     "output_type": "execute_result"
    }
   ],
   "source": []
  },
  {
   "cell_type": "code",
   "execution_count": null,
   "metadata": {},
   "outputs": [],
   "source": []
  },
  {
   "cell_type": "code",
   "execution_count": null,
   "metadata": {},
   "outputs": [],
   "source": []
  },
  {
   "cell_type": "code",
   "execution_count": null,
   "metadata": {},
   "outputs": [],
   "source": []
  }
 ],
 "metadata": {
  "kernelspec": {
   "display_name": "Python 3",
   "language": "python",
   "name": "python3"
  },
  "language_info": {
   "codemirror_mode": {
    "name": "ipython",
    "version": 3
   },
   "file_extension": ".py",
   "mimetype": "text/x-python",
   "name": "python",
   "nbconvert_exporter": "python",
   "pygments_lexer": "ipython3",
   "version": "3.7.4"
  }
 },
 "nbformat": 4,
 "nbformat_minor": 2
}

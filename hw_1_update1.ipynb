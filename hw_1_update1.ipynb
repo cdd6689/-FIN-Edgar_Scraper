{
 "cells": [
  {
   "cell_type": "code",
   "execution_count": 3,
   "metadata": {},
   "outputs": [],
   "source": [
    "def get_import():\n",
    "    import requests\n",
    "    from lxml import html\n",
    "    from bs4 import BeautifulSoup\n",
    "    import re\n",
    "    from datetime import date\n",
    "    import pandas as pd"
   ]
  },
  {
   "cell_type": "code",
   "execution_count": 4,
   "metadata": {},
   "outputs": [],
   "source": [
    "get_import()"
   ]
  },
  {
   "cell_type": "markdown",
   "metadata": {},
   "source": [
    "### GET TICKER FROM USER (VALIDATION INCLUDED)"
   ]
  },
  {
   "cell_type": "code",
   "execution_count": 6,
   "metadata": {},
   "outputs": [],
   "source": [
    "#returns the company's CIK\n",
    "def get_ticker():\n",
    "    comp = False\n",
    "    while comp == False:\n",
    "        comp = input('Please enter the ticker for the company you want to search(required):')\n",
    "        if comp == '':\n",
    "            comp = False\n",
    "        else:\n",
    "            #get the search page \n",
    "            #count = 5 so parse fast since we are just getting the name of company\n",
    "            baselink = 'https://www.sec.gov/cgi-bin/browse-edgar?action=getcompany&CIK={}&type=&dateb=&owner=exclude&count=5'\n",
    "           \n",
    "            print(baselink)#DEBUG\n",
    "            \n",
    "            #convert user input to lowercase for search\n",
    "            comp = comp.lower()\n",
    "            url = baselink.format(comp)\n",
    "            page = requests.get(url)\n",
    "            soup = BeautifulSoup(page.content, 'html.parser')\n",
    "\n",
    "            #see if no match is found \n",
    "            no_match = soup.find_all('h1')\n",
    "\n",
    "            #if not found \n",
    "            if len(list(no_match))!=0:\n",
    "                print(no_match[0].text)\n",
    "                print('Please try again')\n",
    "                comp = False\n",
    "            #when there is a match, check if right match\n",
    "            else:\n",
    "                comp_name = list(soup.find_all('span', class_ = 'companyName'))[0].\\\n",
    "                text.replace('(see all company filings)','')\n",
    "\n",
    "                right_company = False\n",
    "                #ask the user if they is what they are looking for\n",
    "                right_company = False\n",
    "                while right_company == False:\n",
    "                    print('')\n",
    "                    print('')\n",
    "                    print('Is this the company you are looking for? (Press Y for yes N for no)')\n",
    "                    right_company = input(comp_name)\n",
    "                    if right_company.upper() != 'Y' and right_company.upper() !='N':\n",
    "                        right_company = False\n",
    "                    elif right_company.upper() == 'N':\n",
    "                        comp = False\n",
    "                    else: \n",
    "                        return comp_name.split(' ')[-2]\n"
   ]
  },
  {
   "cell_type": "markdown",
   "metadata": {},
   "source": [
    "### GET THE DATE SEARCH RANGE A SEPRATE DATE VALIDATION"
   ]
  },
  {
   "cell_type": "code",
   "execution_count": 96,
   "metadata": {},
   "outputs": [],
   "source": [
    "#check if the date entered is valid \n",
    "#returns either False or valid date as pair [start,end]\n",
    "def date_validation(start, end):\n",
    "    current_date = int(date.today().strftime('%Y%m%d'))\n",
    "    \n",
    "    #ignore if empty start and end\n",
    "    if start == '' and end == '':\n",
    "        return ['','']\n",
    "    #check format length\n",
    "    if len(start) != 8 or len(end)!=8:\n",
    "        print('Please check date entered!')\n",
    "        return False\n",
    "    \n",
    "    #see if user entered the right date\n",
    "    try:\n",
    "        start_test = pd.to_datetime(start,format='%Y%m%d')\n",
    "        end_test = pd.to_datetime(end,format='%Y%m%d')\n",
    "    #when the user enter the wrong content - entering anyting other than numbers \n",
    "    except:\n",
    "        print('Please enter the right date (numbers only)')\n",
    "        return False\n",
    "    start = int(start)\n",
    "    end = int(end)\n",
    "    #check if reasonable begin &end date\n",
    "    if start> current_date or start < 19900101 or end <19900101 or end < start:\n",
    "        print('Please check the year entry. The application do not support search prior to 1990.')\n",
    "        return False\n",
    "    else:\n",
    "        #if user's end year > this year, then end year would be this year\n",
    "        if end > current_date:\n",
    "            end = current_date\n",
    "            return[start,end]\n",
    "        else:\n",
    "            right_year = True\n",
    "            return[start,end]   \n",
    "        \n",
    "        \n",
    "#asking for the end year start year\n",
    "def get_year():\n",
    "    \n",
    "    right_year = False\n",
    "    while right_year == False:\n",
    "        print('Date format: YYYYMMDD')\n",
    "        start_year = input('optional - Search Start year (Press enter to pass):')\n",
    "        end_year = input('optional - Search end year (Press enter to pass):')\n",
    "        right_year = date_validation(start_year , end_year)\n",
    "    return right_year"
   ]
  },
  {
   "cell_type": "markdown",
   "metadata": {},
   "source": [
    "### GET FILE TYPE (10-K ONLY SO FAR)"
   ]
  },
  {
   "cell_type": "code",
   "execution_count": 53,
   "metadata": {},
   "outputs": [],
   "source": [
    "#get the file type\n",
    "#so far only returns '10-k'\n",
    "def get_file_type():\n",
    "    filetype = False\n",
    "    while filetype == False:\n",
    "        filetype = input ('what document are you looking for?')\n",
    "        if filetype == '':\n",
    "            filetype = False\n",
    "        else:\n",
    "            if filetype == '10k' or filetype =='10 k' or filetype =='10-k'\\\n",
    "            or filetype =='10K' or filetype =='10 K' or filetype =='10-K':\n",
    "                return '10-K'\n",
    "            else:\n",
    "                print('Please check the file type!')\n",
    "                filetype = False\n",
    "    "
   ]
  },
  {
   "cell_type": "code",
   "execution_count": null,
   "metadata": {},
   "outputs": [],
   "source": []
  },
  {
   "cell_type": "code",
   "execution_count": null,
   "metadata": {},
   "outputs": [],
   "source": []
  },
  {
   "cell_type": "code",
   "execution_count": 71,
   "metadata": {},
   "outputs": [
    {
     "name": "stdout",
     "output_type": "stream",
     "text": [
      "<!DOCTYPE HTML PUBLIC \"-//W3C//DTD HTML 4.01 Transitional//EN\" \"http://www.w3.org/TR/html4/loose.dtd\">\n",
      "\n",
      "<html lang=\"ENG\">\n",
      "<head>\n",
      "<title>EDGAR Search Results</title>\n",
      "<link href=\"/include/interactive.css\" rel=\"stylesheet\" type=\"text/css\"/>\n",
      "</head>\n",
      "<body style=\"margin: 0\">\n",
      "<!-- SEC Web Analytics - For information please visit: https://www.sec.gov/privacy.htm#collectedinfo -->\n",
      "<noscript><iframe height=\"0\" src=\"//www.googletagmanager.com/ns.html?id=GTM-TD3BKV\" style=\"display:none;visibility:hidden\" width=\"0\"></iframe></noscript>\n",
      "<script>(function(w,d,s,l,i){w[l]=w[l]||[];w[l].push({'gtm.start':\n",
      "new Date().getTime(),event:'gtm.js'});var f=d.getElementsByTagName(s)[0],\n",
      "j=d.createElement(s),dl=l!='dataLayer'?'&l='+l:'';j.async=true;j.src=\n",
      "'//www.googletagmanager.com/gtm.js?id='+i+dl;f.parentNode.insertBefore(j,f);\n",
      "})(window,document,'script','dataLayer','GTM-TD3BKV');</script>\n",
      "<!-- End SEC Web Analytics -->\n",
      "<!-- BEGIN BANNER -->\n",
      "<div id=\"headerTop\">\n",
      "<div id=\"Nav\"><a href=\"/index.htm\">Home</a> | <a href=\"/cgi-bin/browse-edgar?action=getcurrent\">Latest Filings</a> | <a href=\"javascript:history.back()\">Previous Page</a></div>\n",
      "<div id=\"seal\"><a href=\"/index.htm\"><img alt=\"SEC Seal\" border=\"0\" src=\"/images/sealTop.gif\"/></a></div>\n",
      "<div id=\"secWordGraphic\"><img alt=\"SEC Banner\" src=\"/images/bannerTitle.gif\"/></div>\n",
      "</div>\n",
      "<div id=\"headerBottom\">\n",
      "<div id=\"searchHome\"><a href=\"/edgar/searchedgar/webusers.htm\">Search the Next-Generation EDGAR System</a></div> <div id=\"PageTitle\">EDGAR Search Results</div>\n",
      "</div>\n",
      "<!-- END BANNER -->\n",
      "<!-- BEGIN BREADCRUMBS -->\n",
      "<div id=\"breadCrumbs\">\n",
      "<ul>\n",
      "<li><a href=\"/index.htm\">SEC Home</a> »</li>\n",
      "<li><a href=\"/edgar/searchedgar/webusers.htm\">Search the Next-Generation EDGAR System</a> »</li>\n",
      "<li><a href=\"/edgar/searchedgar/companysearch.html\">Company Search</a> »</li>\n",
      "<li class=\"last\">Current Page</li>\n",
      "</ul>\n",
      "</div>\n",
      "<!-- END BREADCRUMBS -->\n",
      "<!-- BEGIN CONTENT -->\n",
      "<div id=\"contentDiv\">\n",
      "<div class=\"noCompanyMatch\">The value you submitted is not valid.  Please try a different selection.</div>\n",
      "</div>\n",
      "<!-- END CONTENT -->\n",
      "<!-- BEGIN FOOTER -->\n",
      "<div id=\"footer\">\n",
      "<div class=\"currentURL\">https://www.sec.gov/cgi-bin/browse-edgar</div>\n",
      "<div class=\"links\"><a href=\"/index.htm\">Home</a> | <a href=\"/edgar/searchedgar/webusers.htm\">Search the Next-Generation EDGAR System</a> | <a href=\"javascript:history.back()\">Previous Page</a></div>\n",
      "<div class=\"modified\">Modified 07/18/2014</div>\n",
      "</div>\n",
      "<!-- END FOOTER -->\n",
      "</body>\n",
      "</html>\n",
      "\n"
     ]
    }
   ],
   "source": [
    "# def get_files(CIK, search_range,file_type):\n",
    "CIK = int('0001652044')\n",
    "search_range = [2017,2018]\n",
    "file_type = '10-K'\n",
    "\n",
    "baselink = 'https://www.sec.gov/cgi-bin/browse-edgar?action=getcompany&\\\n",
    "            CIK={}&type={}&dateb={}&owner=exclude&count=100'\n",
    "\n",
    "#break date_range into start and end, link only takes dates prior to XXXX\n",
    "start_year = search_range[0]\n",
    "end_year = search_range[1]\n",
    "#fill link\n",
    "link = baselink.format(CIK,file_type,end_year)\n",
    "\n",
    "#get html content\n",
    "page = requests.get(link)\n",
    "soup = BeautifulSoup(page.content, 'html.parser')\n",
    "print(soup)\n",
    "\n",
    "    "
   ]
  },
  {
   "cell_type": "code",
   "execution_count": null,
   "metadata": {},
   "outputs": [],
   "source": []
  },
  {
   "cell_type": "code",
   "execution_count": null,
   "metadata": {},
   "outputs": [],
   "source": []
  },
  {
   "cell_type": "code",
   "execution_count": 65,
   "metadata": {},
   "outputs": [],
   "source": [
    "def main():\n",
    "    comp_name = get_ticker()\n",
    "    search_range = get_year()\n",
    "    file_type = get_file_type()"
   ]
  },
  {
   "cell_type": "code",
   "execution_count": 86,
   "metadata": {},
   "outputs": [
    {
     "ename": "AttributeError",
     "evalue": "'str' object has no attribute 'today'",
     "output_type": "error",
     "traceback": [
      "\u001b[0;31m---------------------------------------------------------------------------\u001b[0m",
      "\u001b[0;31mAttributeError\u001b[0m                            Traceback (most recent call last)",
      "\u001b[0;32m<ipython-input-86-df521117900e>\u001b[0m in \u001b[0;36m<module>\u001b[0;34m\u001b[0m\n\u001b[0;32m----> 1\u001b[0;31m \u001b[0mcurrent_date\u001b[0m \u001b[0;34m=\u001b[0m \u001b[0mint\u001b[0m\u001b[0;34m(\u001b[0m\u001b[0mdate\u001b[0m\u001b[0;34m.\u001b[0m\u001b[0mtoday\u001b[0m\u001b[0;34m(\u001b[0m\u001b[0;34m)\u001b[0m\u001b[0;34m.\u001b[0m\u001b[0mstrftime\u001b[0m\u001b[0;34m(\u001b[0m\u001b[0;34m'%Y%m%d'\u001b[0m\u001b[0;34m)\u001b[0m\u001b[0;34m)\u001b[0m\u001b[0;34m\u001b[0m\u001b[0;34m\u001b[0m\u001b[0m\n\u001b[0m",
      "\u001b[0;31mAttributeError\u001b[0m: 'str' object has no attribute 'today'"
     ]
    }
   ],
   "source": []
  },
  {
   "cell_type": "code",
   "execution_count": null,
   "metadata": {},
   "outputs": [],
   "source": []
  },
  {
   "cell_type": "code",
   "execution_count": null,
   "metadata": {},
   "outputs": [],
   "source": []
  }
 ],
 "metadata": {
  "kernelspec": {
   "display_name": "Python 3",
   "language": "python",
   "name": "python3"
  },
  "language_info": {
   "codemirror_mode": {
    "name": "ipython",
    "version": 3
   },
   "file_extension": ".py",
   "mimetype": "text/x-python",
   "name": "python",
   "nbconvert_exporter": "python",
   "pygments_lexer": "ipython3",
   "version": "3.7.5"
  }
 },
 "nbformat": 4,
 "nbformat_minor": 4
}
